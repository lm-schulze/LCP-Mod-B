{
 "cells": [
  {
   "cell_type": "markdown",
   "id": "abff4742-9fa4-46ca-b1ec-5f4da66a4f32",
   "metadata": {},
   "source": [
    "## Team 2413:\n",
    "- Maryam Gholami Shiri (2013071)\n",
    "- Muhammad Usama Qasim (2040472)\n",
    "- Laura Schulze (2122311)\n",
    "- Savina Tsichli (10738280)"
   ]
  },
  {
   "cell_type": "markdown",
   "id": "572996fb-4b18-44d1-81cd-eb55cecdb452",
   "metadata": {},
   "source": [
    "# Exercise 2\n",
    "Visualize and clusterize the data in the file x_12d.dat (N=600 samples, L=12 dimensions),\n",
    "which also has labels for checking the performances (y_12d.dat)."
   ]
  },
  {
   "cell_type": "code",
   "execution_count": null,
   "id": "1b9fbf68-9c6e-4a2d-9f09-c066220583c6",
   "metadata": {},
   "outputs": [],
   "source": []
  },
  {
   "cell_type": "markdown",
   "id": "0cf792da-5b53-42a5-a3e1-a4b6696654bd",
   "metadata": {},
   "source": [
    "## 2.1 “eps” (ε) and “minPts” (mP) in DBSCAN algorithm for clustering\n",
    "\n",
    "Refine the grid with more values of ε and $m_P$ and plot a heat-map\n",
    "showing the normalized mutual information (NMI) between true\n",
    "and predicted clusters, similar to the one on the right.\n",
    "Is the high NMI region showing a correlation between ε and $m_P$?\n",
    "\n",
    "Note: In the lesson we have looked at the typical distance between\n",
    "a point and its closest neighbor, but this does not say what the\n",
    "typical distance is from the 2nd, 3rd , …, $m_P$-neighbor.\n",
    "The plots of ranked distances to the i-th neighbor might also help\n",
    "choose the ε for a given $i=m_P$ ."
   ]
  },
  {
   "cell_type": "code",
   "execution_count": null,
   "id": "1678a970-b496-4cce-bcab-158906152db7",
   "metadata": {},
   "outputs": [],
   "source": []
  },
  {
   "cell_type": "markdown",
   "id": "2de90385-d24c-485f-a0c1-184662f4ab2f",
   "metadata": {},
   "source": [
    "## 2.2 Understanding the 12-dimensional data\n",
    "Use the **principal component analysis (PCA)** to visualize the first components of the data.\n",
    "Does it help understand its structure?"
   ]
  },
  {
   "cell_type": "code",
   "execution_count": null,
   "id": "ce52d87a-04c3-4dfa-b1be-ffc18fa9a6e9",
   "metadata": {},
   "outputs": [],
   "source": []
  },
  {
   "cell_type": "markdown",
   "id": "4f30cb00-045b-4b5f-b157-2e751af70568",
   "metadata": {},
   "source": [
    "## 2.3 Compare different clustering methods\n",
    "\n",
    "a) Perform a k-means clustering of the data, with k=3. Does it work better than DBSCAN?\n",
    "Why?\n",
    "\n",
    "b) Perform a hierarchical clustering of the data and [plot the corresponding dendrogram](https://scikit-learn.org/stable/auto_examples/cluster/plot_agglomerative_dendrogram.html).\n",
    "Does it work better than DBSCAN?"
   ]
  },
  {
   "cell_type": "code",
   "execution_count": null,
   "id": "0236cafa-2d68-4cd3-a0d9-3b79b5a039fe",
   "metadata": {},
   "outputs": [],
   "source": []
  },
  {
   "cell_type": "markdown",
   "id": "132139e4-4171-4732-9e47-5bfc57e2ff5e",
   "metadata": {},
   "source": [
    "## 2.4 OPTIONAL \n",
    "Visualize the data with other methods from the scikit package"
   ]
  }
 ],
 "metadata": {
  "kernelspec": {
   "display_name": "Python 3 (ipykernel)",
   "language": "python",
   "name": "python3"
  },
  "language_info": {
   "codemirror_mode": {
    "name": "ipython",
    "version": 3
   },
   "file_extension": ".py",
   "mimetype": "text/x-python",
   "name": "python",
   "nbconvert_exporter": "python",
   "pygments_lexer": "ipython3",
   "version": "3.11.7"
  }
 },
 "nbformat": 4,
 "nbformat_minor": 5
}
