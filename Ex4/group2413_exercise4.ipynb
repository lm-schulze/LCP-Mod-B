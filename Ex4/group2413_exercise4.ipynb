{
 "cells": [
  {
   "cell_type": "markdown",
   "id": "e1f20484-d380-4337-ac2b-2421d16b940d",
   "metadata": {},
   "source": [
    "## Team 2413:\n",
    "- Maryam Gholami Shiri (2013071)\n",
    "- Muhammad Usama Qasim (2040472)\n",
    "- Laura Schulze (2122311)\n",
    "- Savina Tsichli (10738280)"
   ]
  },
  {
   "cell_type": "markdown",
   "id": "23097cc1-39d5-4e40-8076-bb298e343806",
   "metadata": {},
   "source": [
    "# Exercise 4: Restricted Boltzmann Machines (RBMs)\n",
    "We want to study the performances of an RBM, and, by looking at its learned weights and biases,\n",
    "better understand the correlations in the data (from file x_RBM_2024_exercise.dat, N=104\n",
    "configurations with L=10 bits). Use an RBM with M=3 hidden units."
   ]
  },
  {
   "cell_type": "markdown",
   "id": "c0db7e0b-23f8-466f-8e93-a552e9e4d995",
   "metadata": {},
   "source": [
    "## 4.1 \n",
    "Increase the number of contrastive divergence steps from n=1 to n=5."
   ]
  },
  {
   "cell_type": "code",
   "execution_count": null,
   "id": "9a1d58d8-8994-4e1c-85d5-2bf0e39baf32",
   "metadata": {},
   "outputs": [],
   "source": []
  },
  {
   "cell_type": "markdown",
   "id": "64e43b3f-6e11-4ec9-a5fb-b26a80df8859",
   "metadata": {},
   "source": [
    "## 4.2\n",
    "Compute the log-likelihood $\\mathscr{L}$ during the training, at every epoch, or every minibatch update if it reaches a maximum already in the first epoch. Use “t” as an index of this “time”, indicating the unit in the figures."
   ]
  },
  {
   "cell_type": "code",
   "execution_count": null,
   "id": "7586c8fd-bb55-4e8d-ba84-587c8fa8bd15",
   "metadata": {},
   "outputs": [],
   "source": []
  },
  {
   "cell_type": "markdown",
   "id": "7d4406aa-87ad-4639-82da-a0e951b908a0",
   "metadata": {},
   "source": [
    "## 4.3\n",
    "Try RBMs with different numbers of hidden units: M=1, 2, 3 (done above), 4, 5, and 6."
   ]
  },
  {
   "cell_type": "code",
   "execution_count": null,
   "id": "ccb58224-37c4-4456-a7ff-48a6733398a9",
   "metadata": {},
   "outputs": [],
   "source": []
  },
  {
   "cell_type": "markdown",
   "id": "326def2d-92bb-4a83-99e9-4ea9b88f4bb0",
   "metadata": {},
   "source": [
    "## 4.4\n",
    "for M=3, plot $\\mathscr{L}$ as a function of “t”, comparing the two contrastive divergence cases (n=1 and n=5). Then, for n=1, plot $\\mathscr{L}$ as a function of “t”, comparing the two cases with different M."
   ]
  },
  {
   "cell_type": "code",
   "execution_count": null,
   "id": "3e513b11-0d22-4274-8677-fe529d32f577",
   "metadata": {},
   "outputs": [],
   "source": []
  },
  {
   "cell_type": "markdown",
   "id": "27b193e4-c4ed-4bb7-aad2-d82f04f1bc75",
   "metadata": {},
   "source": [
    "## 4.5\n",
    "From the weights learned by the RBM, guess the structure of the data."
   ]
  },
  {
   "cell_type": "code",
   "execution_count": null,
   "id": "ba497826-c864-4377-9229-bbba1a8f15ae",
   "metadata": {},
   "outputs": [],
   "source": []
  },
  {
   "cell_type": "markdown",
   "id": "f9e73fd9-fa62-4f57-b31e-393ad4672b6a",
   "metadata": {},
   "source": [
    "To compute $\\mathscr{L}$ , consider full configurations x=(v,h) and their energy E(x). With $\\mathscr{L}$ visible units and M hidden units, we have 2L+M possible configurations. The partition function Z is the sum of all their Boltzmann weights e-E(x). The average expectation of the energy according to data is computed by averaging the energy of each data sample vn completed with all 2M possible hidden states. Thus, in total there are N*2M configurations to use in the <E>data average."
   ]
  }
 ],
 "metadata": {
  "kernelspec": {
   "display_name": "Python 3 (ipykernel)",
   "language": "python",
   "name": "python3"
  },
  "language_info": {
   "codemirror_mode": {
    "name": "ipython",
    "version": 3
   },
   "file_extension": ".py",
   "mimetype": "text/x-python",
   "name": "python",
   "nbconvert_exporter": "python",
   "pygments_lexer": "ipython3",
   "version": "3.11.7"
  }
 },
 "nbformat": 4,
 "nbformat_minor": 5
}
