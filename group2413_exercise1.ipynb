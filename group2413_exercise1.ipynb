{
 "cells": [
  {
   "cell_type": "markdown",
   "id": "803e6718",
   "metadata": {},
   "source": [
    "Team 2413:\n",
    "- Maryam Gholami ()\n",
    "- Muhammad Usama ()\n",
    "- Laura Schulze (2122311)\n",
    "- Savina Tsichli ()"
   ]
  },
  {
   "cell_type": "markdown",
   "id": "4cc0320f",
   "metadata": {},
   "source": [
    "# Exercise 1"
   ]
  }
 ],
 "metadata": {
  "kernelspec": {
   "display_name": "Python 3 (ipykernel)",
   "language": "python",
   "name": "python3"
  },
  "language_info": {
   "codemirror_mode": {
    "name": "ipython",
    "version": 3
   },
   "file_extension": ".py",
   "mimetype": "text/x-python",
   "name": "python",
   "nbconvert_exporter": "python",
   "pygments_lexer": "ipython3",
   "version": "3.11.5"
  }
 },
 "nbformat": 4,
 "nbformat_minor": 5
}
