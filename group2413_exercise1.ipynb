{
 "cells": [
  {
   "cell_type": "markdown",
   "id": "27bf1530",
   "metadata": {},
   "source": [
    "Team 2413:\n",
    "- Maryam Gholami ()\n",
    "- Muhammad Usama ()\n",
    "- Laura Schulze (2122311)\n",
    "- Savina Tsichli ()"
   ]
  },
  {
   "cell_type": "markdown",
   "id": "52dbb22d",
   "metadata": {},
   "source": [
    "# Exercise 1"
   ]
  },
  {
   "cell_type": "markdown",
   "id": "ff8d936c",
   "metadata": {},
   "source": [
    "Analyze the data file provided at the lesson with CNNs. Each of the three classes contains a part of\n",
    "a signal with N values, in which there could be the addition of a deterministic pattern of length\n",
    "P<N. All patterns have the same length P (in the notebook), but their shape depends on the class,\n",
    "and their position varies from sample to sample."
   ]
  },
  {
   "cell_type": "markdown",
   "id": "59b94eea",
   "metadata": {},
   "source": [
    "## 1.1\n",
    "The lesson discussed two CNN versions: one ending with a global max pooling layer (G), and one\n",
    "ending with a dense layer (D).\n",
    "Choose one of the two G and D versions for the remaining exercise, motivating your choice."
   ]
  },
  {
   "cell_type": "markdown",
   "id": "5262c3c0",
   "metadata": {},
   "source": [
    "## 1.2\n",
    "Try different optimizers, including at least Adam, RMSprop, and Nesterov. Each one should be\n",
    "tested for at least five values of the learning rate η (for example, including 10-5, 10-4, 10-3). The\n",
    "range could be different for different algorithms. Moreover, at least five fits per model should be\n",
    "collected to obtain statistics with an average and standard deviation of the model’s validation\n",
    "accuracy. Plot all results in a single panel of a figure as a function of η"
   ]
  },
  {
   "cell_type": "markdown",
   "id": "2213da56",
   "metadata": {},
   "source": [
    "## 1.3 \n",
    "hoose one among the best CNNs in step 2 (there could be equivalent ones within error bars).\n",
    "Using that CNN, try to understand the hidden patterns. Introduce regularization and study the\n",
    "kernels of the first layer, also by varying their length and their number (respectively, KS and NF in the notebook). Report your findings, including eventually improved validation accuracy, thanks to\n",
    "the regularization. However, note that this point’s scope differs from optimizing the validation\n",
    "accuracy: it focuses on interpreting the kernel shapes.\n",
    "\n",
    "The regularization is tuned by varying the parameter λ (in magnitude: 0, 10-5, 10-4, 10-3, etc.) of the\n",
    "L2 (Ridge) regularization (see lambda in eqs.(43) and (52) in the review.) or the L1 (LASSO)\n",
    "regularization. One can also try a mixed version (l1_l2, optional). Does the regularization provide\n",
    "any significant improvement in understanding the weights in the filters?"
   ]
  },
  {
   "cell_type": "markdown",
   "id": "df0f8d08",
   "metadata": {},
   "source": [
    "## 1.4 (optional)\n",
    "Try to improve the CNN’s performance by a random search in the hyperparameters’ space. The\n",
    "performance is quantified again by the accuracy of the validation dataset.\n",
    "To implement a “random search,” one can use the keras_tuner package:\n",
    "https://keras.io/guides/keras_tuner/getting_started/\n",
    "Hyperparameters that could be considered for tuning include:\n",
    "- minibatch size\n",
    "- activation units (sigmoid, ReLU, ELU, etc.)\n",
    "- Minimizer (ADAM, RMSprop, Nesterov, etc.)\n",
    "- dropout values\n",
    "- number of layers\n",
    "- rescaling of data\n",
    "\n",
    "(above, we already varied the learning rate, KS, and NF; it is allowed to reconsider their variation)."
   ]
  }
 ],
 "metadata": {
  "kernelspec": {
   "display_name": "Python 3 (ipykernel)",
   "language": "python",
   "name": "python3"
  },
  "language_info": {
   "codemirror_mode": {
    "name": "ipython",
    "version": 3
   },
   "file_extension": ".py",
   "mimetype": "text/x-python",
   "name": "python",
   "nbconvert_exporter": "python",
   "pygments_lexer": "ipython3",
   "version": "3.11.5"
  }
 },
 "nbformat": 4,
 "nbformat_minor": 5
}
